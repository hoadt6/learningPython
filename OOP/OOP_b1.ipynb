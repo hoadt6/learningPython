{
 "cells": [
  {
   "cell_type": "markdown",
   "source": [
    "### Exercise\r\n",
    "\r\n",
    "Thay đổi các thuộc tính `account_number`, `account_name`, `balance` trong class `BankAccount` thành thuộc tính ẩn, và triển khai thêm các phương thức:\r\n",
    "\r\n",
    "- `get_account_number()`\r\n",
    "- `get_account_name()`\r\n",
    "- `get_balance()`\r\n",
    "- `set_balance()` - `balance` phải lớn hơn hoặc bằng `0`\r\n",
    "\r\n",
    "Thay đổi các phương thức `display()`, `withdraw()` và `deposit()` sử dụng các phương thức getter và setter trên.\r\n",
    "\r\n",
    "Chú ý:\r\n",
    "\r\n",
    "- Với `withdraw()`, `amount` phải lớn hơn `0` và nhỏ hơn `balance`\r\n",
    "- Với `deposit()`, `amount` phải lớn hơn `0`\r\n",
    "\r\n",
    "Nếu giá trị không phù hợp thì thông báo ra `console`"
   ],
   "metadata": {}
  },
  {
   "cell_type": "code",
   "execution_count": 47,
   "source": [
    "class BankAccount:\r\n",
    "    def __init__(self, account_name,account_number, balance,amount1,amount2):\r\n",
    "        self._name = account_name\r\n",
    "        self._number = account_number\r\n",
    "        self._balance = balance\r\n",
    "        self.amount1 = amount1\r\n",
    "        self.amount2 = amount2 \r\n",
    "        self.set_balance(balance)\r\n",
    "        self.set_withdraw(amount1)\r\n",
    "        self.set_deposit(amount2)\r\n",
    "    def get_account_number(self):\r\n",
    "        return self._number\r\n",
    "    def get_account_name(self):\r\n",
    "        return self._name\r\n",
    "    def get_balance(self):\r\n",
    "        return self._balance\r\n",
    "    def set_balance(self,new_balance):\r\n",
    "        if 0 < new_balance:\r\n",
    "            self._balance = new_balance\r\n",
    "        else:\r\n",
    "            print(\"Số tiền không hợp lệ\")\r\n",
    "    def get_withdraw(self):\r\n",
    "        return self.amount1\r\n",
    "    def set_withdraw(self,new_amount):\r\n",
    "        if 0 < new_amount < self._balance :\r\n",
    "            self.amount1 = self._balance - new_amount\r\n",
    "        else:\r\n",
    "            print(\"Console\") \r\n",
    "    def get_deposit(self):\r\n",
    "        return self.amount2\r\n",
    "    def set_deposit(self,new_amount):\r\n",
    "        if 0 < new_amount:\r\n",
    "            self.amount2 = self._balance + new_amount\r\n",
    "        else:\r\n",
    "            print(\"Console\") \r\n",
    "    def display(self):\r\n",
    "        print(f\"{self.get_account_name()} - {self.get_account_number()}\")\r\n",
    "        print(f\"{self.get_withdraw()} - {self.get_deposit()}\")\r\n",
    "\r\n",
    "techcombank = BankAccount(\"Minthu\",100,100,10,20)\r\n",
    "techcombank.display()"
   ],
   "outputs": [
    {
     "output_type": "stream",
     "name": "stdout",
     "text": [
      "Minthu - 100\n",
      "90 - 120\n"
     ]
    }
   ],
   "metadata": {}
  }
 ],
 "metadata": {
  "orig_nbformat": 4,
  "language_info": {
   "name": "python",
   "version": "3.7.6",
   "mimetype": "text/x-python",
   "codemirror_mode": {
    "name": "ipython",
    "version": 3
   },
   "pygments_lexer": "ipython3",
   "nbconvert_exporter": "python",
   "file_extension": ".py"
  },
  "kernelspec": {
   "name": "python3",
   "display_name": "Python 3.7.6 64-bit"
  },
  "interpreter": {
   "hash": "04635d289a519a1410467dd0afb0db42f9184808881ca68b2eb5a687a20a5a94"
  }
 },
 "nbformat": 4,
 "nbformat_minor": 2
}